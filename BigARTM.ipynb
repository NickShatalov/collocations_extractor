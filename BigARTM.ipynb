{
 "cells": [
  {
   "cell_type": "code",
   "execution_count": 3,
   "metadata": {},
   "outputs": [],
   "source": [
    "import pandas as pd\n",
    "import artm\n",
    "import os\n",
    "import re"
   ]
  },
  {
   "cell_type": "code",
   "execution_count": 2,
   "metadata": {},
   "outputs": [],
   "source": [
    "COLLECTION = './Data/Component_Results/syntaxnet/lemmatized_collection/'\n",
    "TOPMINE_OUTPUT = './Data/Component_Results/topmine/topmine.csv'"
   ]
  },
  {
   "cell_type": "code",
   "execution_count": 17,
   "metadata": {},
   "outputs": [],
   "source": [
    "from sklearn.feature_extraction.text import CountVectorizer"
   ]
  },
  {
   "cell_type": "code",
   "execution_count": 7,
   "metadata": {},
   "outputs": [],
   "source": [
    "documents = []\n",
    "filenames = []\n",
    "\n",
    "for filename in os.listdir(COLLECTION):\n",
    "    filenames.append(filename.split('.')[0])\n",
    "    \n",
    "    with open(COLLECTION + \"/\" + filename, \"r\") as f:\n",
    "        doc = f.read()\n",
    "        doc = re.sub(r'\\.', '', doc)\n",
    "        doc = re.sub(r' +', ' ', doc)\n",
    "        documents.append(doc)"
   ]
  },
  {
   "cell_type": "code",
   "execution_count": 4,
   "metadata": {},
   "outputs": [],
   "source": [
    "topmine_df = pd.read_csv(TOPMINE_OUTPUT, sep='\\t')\n",
    "collocs = list(topmine_df['ngramm'])\n",
    "del topmine_df\n",
    "\n",
    "# with open(COLLOCS, 'r') as f:\n",
    "#     collocs = f.read().split('\\n')"
   ]
  },
  {
   "cell_type": "code",
   "execution_count": 5,
   "metadata": {},
   "outputs": [],
   "source": [
    "from tqdm import tqdm"
   ]
  },
  {
   "cell_type": "code",
   "execution_count": 8,
   "metadata": {
    "scrolled": true
   },
   "outputs": [
    {
     "name": "stderr",
     "output_type": "stream",
     "text": [
      "100%|██████████| 197/197 [39:45<00:00, 12.11s/it]\n"
     ]
    }
   ],
   "source": [
    "new_documents = []\n",
    "for document in tqdm(documents):\n",
    "    new_document = []\n",
    "    words = document.split(' ')\n",
    "    i = 0\n",
    "    while True:\n",
    "        flag = False\n",
    "        for colloc in collocs:\n",
    "            colloc_words = colloc.split(' ')\n",
    "            candidate = words[i:i + len(colloc_words)]\n",
    "            if candidate == colloc_words:\n",
    "                new_document.append('_'.join(candidate))\n",
    "                i += len(colloc_words)\n",
    "                flag = True\n",
    "                break\n",
    "        if not flag:\n",
    "            new_document.append(words[i])\n",
    "            i += 1\n",
    "        if i >= len(words):\n",
    "            break\n",
    "    new_documents.append(new_document)"
   ]
  },
  {
   "cell_type": "code",
   "execution_count": 15,
   "metadata": {},
   "outputs": [],
   "source": [
    "docs = [' '.join(doc) for doc in new_documents]"
   ]
  },
  {
   "cell_type": "code",
   "execution_count": 18,
   "metadata": {},
   "outputs": [],
   "source": [
    "cv = CountVectorizer(min_df=0, max_df=1.0)\n",
    "X_test = cv.fit_transform(docs)\n",
    "tokens = cv.get_feature_names()"
   ]
  },
  {
   "cell_type": "code",
   "execution_count": 19,
   "metadata": {},
   "outputs": [],
   "source": [
    "import numpy as np"
   ]
  },
  {
   "cell_type": "code",
   "execution_count": 24,
   "metadata": {},
   "outputs": [
    {
     "data": {
      "text/plain": [
       "(1, 28156)"
      ]
     },
     "execution_count": 24,
     "metadata": {},
     "output_type": "execute_result"
    }
   ],
   "source": [
    "X_test.sum(axis=0).shape"
   ]
  },
  {
   "cell_type": "code",
   "execution_count": 63,
   "metadata": {},
   "outputs": [],
   "source": [
    "# Убираем часто встречаемые\n",
    "N = 30\n",
    "counts = X_test.toarray().sum(axis=0)\n",
    "inds = np.argpartition(-counts, np.arange(N))[:N]\n",
    "# inds = np.array(inds.tolist()[0])[:N]\n",
    "\n",
    "stopwords = []\n",
    "for i in inds:\n",
    "    stopwords.append(tokens[i])\n",
    "    \n",
    "# Убираем редко встречаемые\n",
    "# inds = counts <= 2\n",
    "# inds = inds.nonzero()[0]\n",
    "# for i in inds:\n",
    "#     stopwords.append(tokens[i])"
   ]
  },
  {
   "cell_type": "code",
   "execution_count": 64,
   "metadata": {},
   "outputs": [
    {
     "data": {
      "text/plain": [
       "30"
      ]
     },
     "execution_count": 64,
     "metadata": {},
     "output_type": "execute_result"
    }
   ],
   "source": [
    "len(stopwords)"
   ]
  },
  {
   "cell_type": "code",
   "execution_count": 65,
   "metadata": {},
   "outputs": [],
   "source": [
    "cv = CountVectorizer(min_df=0, max_df=1.0, stop_words=stopwords)\n",
    "X = cv.fit_transform(docs)"
   ]
  },
  {
   "cell_type": "code",
   "execution_count": 66,
   "metadata": {},
   "outputs": [
    {
     "data": {
      "text/plain": [
       "(197, 28126)"
      ]
     },
     "execution_count": 66,
     "metadata": {},
     "output_type": "execute_result"
    }
   ],
   "source": [
    "X.shape"
   ]
  },
  {
   "cell_type": "code",
   "execution_count": 67,
   "metadata": {},
   "outputs": [],
   "source": [
    "vowpal_documents = []\n",
    "for row, filename in zip(X, filenames):\n",
    "    vowpal_doc = [filename, '|']\n",
    "    for count, token in zip(row.toarray()[0], cv.get_feature_names()):\n",
    "        if count != 0:\n",
    "            vowpal_doc.append(\"{}:{}\".format(token, count))\n",
    "    vowpal_documents.append(' '.join(vowpal_doc))"
   ]
  },
  {
   "cell_type": "code",
   "execution_count": 68,
   "metadata": {},
   "outputs": [],
   "source": [
    "VOWPAL_DOCS = 'vowpal_docs.txt'"
   ]
  },
  {
   "cell_type": "code",
   "execution_count": 69,
   "metadata": {},
   "outputs": [],
   "source": [
    "with open(VOWPAL_DOCS, 'w') as f:\n",
    "    f.write('\\n'.join(vowpal_documents))"
   ]
  },
  {
   "cell_type": "markdown",
   "metadata": {},
   "source": [
    "---"
   ]
  },
  {
   "cell_type": "code",
   "execution_count": 320,
   "metadata": {},
   "outputs": [],
   "source": [
    "docword = [str(len(filenames)), str(X.shape[1]), '1']\n",
    "for doc_id, row in enumerate(X):\n",
    "    for word_id, count in enumerate(row.toarray()[0]):\n",
    "        if count != 0:\n",
    "            docword.append(\"{} {} {}\".format(doc_id + 1, word_id + 1, count))"
   ]
  },
  {
   "cell_type": "code",
   "execution_count": 321,
   "metadata": {},
   "outputs": [],
   "source": [
    "vocab = cv.get_feature_names()"
   ]
  },
  {
   "cell_type": "code",
   "execution_count": 141,
   "metadata": {},
   "outputs": [],
   "source": [
    "DOCWORD = 'docword.wiki.txt'\n",
    "VOCAB = 'vocab.wiki.txt'"
   ]
  },
  {
   "cell_type": "code",
   "execution_count": 142,
   "metadata": {},
   "outputs": [],
   "source": [
    "with open(DOCWORD, 'w') as f:\n",
    "    f.write('\\n'.join(docword))\n",
    "\n",
    "with open(VOCAB, 'w') as f:\n",
    "    f.write('\\n'.join(vocab))"
   ]
  },
  {
   "cell_type": "markdown",
   "metadata": {},
   "source": [
    "---"
   ]
  },
  {
   "cell_type": "code",
   "execution_count": 70,
   "metadata": {},
   "outputs": [],
   "source": [
    "TOPIC_NUM = 10"
   ]
  },
  {
   "cell_type": "code",
   "execution_count": 71,
   "metadata": {},
   "outputs": [],
   "source": [
    "import artm"
   ]
  },
  {
   "cell_type": "code",
   "execution_count": 72,
   "metadata": {},
   "outputs": [],
   "source": [
    "batch_vectorizer = artm.BatchVectorizer(data_path=VOWPAL_DOCS,\n",
    "                                        data_format='vowpal_wabbit',\n",
    "                                        collection_name='wiki',\n",
    "                                        target_folder='artm_folder')"
   ]
  },
  {
   "cell_type": "code",
   "execution_count": 73,
   "metadata": {},
   "outputs": [],
   "source": [
    "dictionary = batch_vectorizer.dictionary\n",
    "topic_names = ['topic_{}'.format(i) for i in range(TOPIC_NUM)]"
   ]
  },
  {
   "cell_type": "code",
   "execution_count": 74,
   "metadata": {},
   "outputs": [],
   "source": [
    "model_artm = artm.ARTM(topic_names=topic_names, cache_theta=True,\n",
    "                       scores=[artm.PerplexityScore(name='PerplexityScore',\n",
    "                                                    dictionary=dictionary)],\n",
    "                       regularizers=[artm.SmoothSparseThetaRegularizer(name='SparseTheta',\n",
    "                                                                       tau=-0.15),\n",
    "                                     artm.DecorrelatorPhiRegularizer(name='Decorrelator',\n",
    "                                                                     tau=0.1)]\n",
    "                      )"
   ]
  },
  {
   "cell_type": "code",
   "execution_count": 75,
   "metadata": {},
   "outputs": [],
   "source": [
    "model_artm.scores.add(artm.SparsityPhiScore(name='SparsityPhiScore'))\n",
    "model_artm.scores.add(artm.SparsityThetaScore(name='SparsityThetaScore'))\n",
    "model_artm.scores.add(artm.TopicKernelScore(name='TopicKernelScore',\n",
    "                                                  probability_mass_threshold=0.3))\n",
    "model_artm.scores.add(artm.TopTokensScore(name='TopTokensScore', num_tokens=6))"
   ]
  },
  {
   "cell_type": "code",
   "execution_count": 78,
   "metadata": {},
   "outputs": [],
   "source": [
    "model_artm.initialize(dictionary=dictionary)"
   ]
  },
  {
   "cell_type": "code",
   "execution_count": 79,
   "metadata": {},
   "outputs": [
    {
     "name": "stdout",
     "output_type": "stream",
     "text": [
      "CPU times: user 13.3 s, sys: 612 ms, total: 13.9 s\n",
      "Wall time: 13.7 s\n"
     ]
    }
   ],
   "source": [
    "%%time\n",
    "model_artm.fit_offline(batch_vectorizer=batch_vectorizer, num_collection_passes=40)"
   ]
  },
  {
   "cell_type": "code",
   "execution_count": 80,
   "metadata": {},
   "outputs": [
    {
     "name": "stdout",
     "output_type": "stream",
     "text": [
      "topic_0: \n",
      "['learn', 'set', 'algorithm', 'all', 'instance', 'problem']\n",
      "topic_1: \n",
      "['between', 'data', 'machine_learn', 'these', 'distribution', 'sample']\n",
      "topic_2: \n",
      "['these', 'learn', 'all', 'when', 'then', 'set']\n",
      "topic_3: \n",
      "['when', 'algorithm', 'there', 'their', 'data', 'than']\n",
      "topic_4: \n",
      "['where', 'we', 'problem', 'these', 'some', 'other']\n",
      "topic_5: \n",
      "['probability', 'all', 'algorithm', 'then', 'data', 'some']\n",
      "topic_6: \n",
      "['learn', 'machine_learn', 'some', 'but', 'set', 'other']\n",
      "topic_7: \n",
      "['we', 'all', 'where', 'example', 'set', 'other']\n",
      "topic_8: \n",
      "['then', 'we', 'some', 'all', 'function', 'where']\n",
      "topic_9: \n",
      "['these', 'algorithm', 'example', 'there', 'but', 'we']\n"
     ]
    }
   ],
   "source": [
    "for topic_name in model_artm.topic_names:\n",
    "    print(topic_name + ': ')\n",
    "    print(model_artm.score_tracker['TopTokensScore'].last_tokens[topic_name])"
   ]
  },
  {
   "cell_type": "code",
   "execution_count": 81,
   "metadata": {},
   "outputs": [],
   "source": [
    "df_nwt = model_artm.get_phi(model_name=model_artm.model_nwt)"
   ]
  },
  {
   "cell_type": "code",
   "execution_count": 82,
   "metadata": {},
   "outputs": [],
   "source": [
    "df_ptw = (df_nwt.T / df_nwt.sum(axis=1)).T"
   ]
  },
  {
   "cell_type": "code",
   "execution_count": 83,
   "metadata": {},
   "outputs": [],
   "source": [
    "res_dict = dict()\n",
    "no_collocs = []\n",
    "for colloc in collocs:\n",
    "    index = '_'.join(colloc.split(' '))\n",
    "    if index in df_ptw.index:\n",
    "        res_dict[colloc] = df_ptw.loc[index].values\n",
    "    else:\n",
    "        no_collocs.append(index)"
   ]
  },
  {
   "cell_type": "code",
   "execution_count": 86,
   "metadata": {},
   "outputs": [
    {
     "data": {
      "text/plain": [
       "9657"
      ]
     },
     "execution_count": 86,
     "metadata": {},
     "output_type": "execute_result"
    }
   ],
   "source": [
    "len(no_collocs)"
   ]
  },
  {
   "cell_type": "code",
   "execution_count": 95,
   "metadata": {},
   "outputs": [],
   "source": [
    "from scipy.stats import entropy"
   ]
  },
  {
   "cell_type": "code",
   "execution_count": 102,
   "metadata": {},
   "outputs": [],
   "source": [
    "def js(p, q):\n",
    "    p = np.asarray(p)\n",
    "    q = np.asarray(q)\n",
    "   # normalize\n",
    "    p /= p.sum()\n",
    "    q /= q.sum()\n",
    "    m = (p + q) / 2\n",
    "    return (entropy(p, m) + entropy(q, m)) / 2"
   ]
  },
  {
   "cell_type": "code",
   "execution_count": 106,
   "metadata": {},
   "outputs": [],
   "source": [
    "def deg_func(p, gamma=2):\n",
    "    return np.power(p, gamma).sum()"
   ]
  },
  {
   "cell_type": "code",
   "execution_count": 108,
   "metadata": {},
   "outputs": [],
   "source": [
    "GAMMA = 2\n",
    "\n",
    "ngrams = []\n",
    "kl_divs = []\n",
    "js_divs = []\n",
    "degs = []\n",
    "\n",
    "for ngram, distrib in res_dict.items():\n",
    "    ngrams.append(ngram)\n",
    "    kl_divs.append(entropy(distrib, np.ones(TOPIC_NUM) / TOPIC_NUM))\n",
    "    js_divs.append(js(distrib, np.ones(TOPIC_NUM) / TOPIC_NUM))\n",
    "    degs.append(deg_func(distrib, GAMMA))"
   ]
  },
  {
   "cell_type": "code",
   "execution_count": 109,
   "metadata": {},
   "outputs": [],
   "source": [
    "df_topic = pd.DataFrame({'ngramm': ngrams, 'kl_div': kl_divs, 'js_div': js_divs, 'deg': degs})"
   ]
  },
  {
   "cell_type": "code",
   "execution_count": 112,
   "metadata": {},
   "outputs": [],
   "source": [
    "df_topic.to_csv('./Data/Component_Results/bigartm/bigartm.csv')"
   ]
  },
  {
   "cell_type": "markdown",
   "metadata": {},
   "source": [
    "---"
   ]
  },
  {
   "cell_type": "code",
   "execution_count": 89,
   "metadata": {},
   "outputs": [],
   "source": [
    "import matplotlib.pyplot as plt"
   ]
  },
  {
   "cell_type": "code",
   "execution_count": 90,
   "metadata": {},
   "outputs": [
    {
     "data": {
      "text/plain": [
       "<BarContainer object of 10 artists>"
      ]
     },
     "execution_count": 90,
     "metadata": {},
     "output_type": "execute_result"
    },
    {
     "data": {
      "image/png": "[encoded data removed]",
      "text/plain": [
       "<Figure size 432x288 with 1 Axes>"
      ]
     },
     "metadata": {},
     "output_type": "display_data"
    }
   ],
   "source": [
    "c = 'machine learn'\n",
    "plt.ylim((0, 1))\n",
    "plt.title('p(t|w) = {}'.format(c))\n",
    "plt.bar(range(TOPIC_NUM), height=res_dict[c])"
   ]
  }
 ],
 "metadata": {
  "kernelspec": {
   "display_name": "Python 3",
   "language": "python",
   "name": "python3"
  },
  "language_info": {
   "codemirror_mode": {
    "name": "ipython",
    "version": 3
   },
   "file_extension": ".py",
   "mimetype": "text/x-python",
   "name": "python",
   "nbconvert_exporter": "python",
   "pygments_lexer": "ipython3",
   "version": "3.6.5"
  }
 },
 "nbformat": 4,
 "nbformat_minor": 2
}
