{
 "cells": [
  {
   "cell_type": "markdown",
   "metadata": {},
   "source": [
    "# Курсовая работа\n",
    "1. [Сборка датасета](#dataset_collect)\n",
    "    1. [Коллокации](#collocations_collect) (для оценки качества)\n",
    "    2. [Документы](#documents_collect)\n",
    "2. [SyntaxNet](#syntaxnet)\n",
    "    1. [Запуск SyntaxNet](#syntaxnet_run)\n",
    "    2. [Обработка результатов SyntaxNet'а](#syntaxnet_postprocess)\n",
    "    3. [Синтаксический отбор](#syntaxnet_extraction)\n",
    "3. [TopMine](#topmine)\n",
    "    #### To be done...\n",
    "4. Запуск тематической модели\n",
    "5. Обучение итоговой модели"
   ]
  },
  {
   "cell_type": "code",
   "execution_count": null,
   "metadata": {
    "collapsed": true
   },
   "outputs": [],
   "source": [
    "import numpy as np\n",
    "\n",
    "import nltk\n",
    "from nltk.stem import WordNetLemmatizer\n",
    "from pymystem3 import Mystem\n",
    "\n",
    "import ngrammer\n",
    "\n",
    "from bs4 import BeautifulSoup\n",
    "import re\n",
    "\n",
    "import pandas as pd\n",
    "import csv\n",
    "\n",
    "import pickle as pkl\n",
    "import json\n",
    "import os\n",
    "import time"
   ]
  },
  {
   "cell_type": "code",
   "execution_count": 109,
   "metadata": {},
   "outputs": [],
   "source": [
    "WIKI_XML = \"../wiki.xml\"\n",
    "WIKIEXTRACTOR_FOLDER = \"../wikiextractor/\"\n",
    "WIKITEXTS_JSON_FOLDER = \"../wikitexts_json/\"\n",
    "\n",
    "WIKI_COLLECTION = \"../collection/\"\n",
    "COLLOCS_FILE = \"../collocs.txt\"\n",
    "\n",
    "SYNTAXNET_INPUT = \"../sentences.txt\"\n",
    "SYNTAXNET_OUTPUT = \"../syntaxnet_out.txt\"\n",
    "\n",
    "LEMMATIZED_COLLECTION = \"../lemmatized_collection/\"\n",
    "STOPWORDS_FILE = \"../stopwords.txt\"\n",
    "NGRAMMS_FILE = \"../ngramms.txt\""
   ]
  },
  {
   "cell_type": "markdown",
   "metadata": {},
   "source": [
    "<a id='dataset_collect'></a>\n",
    "# Сборка датасета"
   ]
  },
  {
   "cell_type": "markdown",
   "metadata": {},
   "source": [
    "<a id='collocations_collect'></a>\n",
    "## Коллокации"
   ]
  },
  {
   "cell_type": "markdown",
   "metadata": {},
   "source": [
    "**Выделяем текст статьи из xml файла**"
   ]
  },
  {
   "cell_type": "code",
   "execution_count": 112,
   "metadata": {
    "collapsed": true
   },
   "outputs": [],
   "source": [
    "with open(WIKI_XML, \"r\") as f:\n",
    "    data_xml = f.read().replace('\\n', ' ')"
   ]
  },
  {
   "cell_type": "code",
   "execution_count": 113,
   "metadata": {
    "collapsed": true
   },
   "outputs": [],
   "source": [
    "soup = BeautifulSoup(data_xml, \"xml\")"
   ]
  },
  {
   "cell_type": "code",
   "execution_count": 114,
   "metadata": {
    "collapsed": true
   },
   "outputs": [],
   "source": [
    "texts = [tmp.text for tmp in soup.find_all('text')]"
   ]
  },
  {
   "cell_type": "markdown",
   "metadata": {},
   "source": [
    "**Выделяем гиперссылки**"
   ]
  },
  {
   "cell_type": "code",
   "execution_count": 115,
   "metadata": {
    "collapsed": true
   },
   "outputs": [],
   "source": [
    "hyperlinks = []\n",
    "for text in texts:\n",
    "    for open_brackets, close_brackets in zip(re.finditer('\\[\\[', text), re.finditer('\\]\\]', text)):\n",
    "        start_ind = open_brackets.span()[1]\n",
    "        close_ind = close_brackets.span()[0]\n",
    "        hyperlinks.append(text[start_ind:close_ind])"
   ]
  },
  {
   "cell_type": "markdown",
   "metadata": {},
   "source": [
    "**Фильтруем теги, разбиваем ссылки с множественными словами**"
   ]
  },
  {
   "cell_type": "code",
   "execution_count": 116,
   "metadata": {
    "collapsed": true
   },
   "outputs": [],
   "source": [
    "filtered_hyperlinks = []\n",
    "for hl in hyperlinks:\n",
    "    # --- Теги ---\n",
    "    # Игнорируем, если тег File:\n",
    "    if re.match(\"File:\", hl) and (re.match(\"File:\", hl).span()[0] == 0):\n",
    "        continue\n",
    "    # Добавляем имя категории из тега Category:\n",
    "    if re.match(\"Category:\", hl) and (re.match(\"Category:\", hl).span()[0] == 0):\n",
    "        filtered_hyperlinks.append(hl[re.match(\"Category:\", hl).span()[1]:])\n",
    "        continue\n",
    "    \n",
    "    # --- НеТеги ---\n",
    "    # Убираем все что в скобках\n",
    "    hl = re.sub(\"\\(.+\\)\", \"\", hl)\n",
    "    # Разделяем мультиназвания (через | или and) на раздельные коллокации\n",
    "    sub_hl = list(re.split(\"\\|| and \", hl))\n",
    "    \n",
    "    filtered_hyperlinks += sub_hl"
   ]
  },
  {
   "cell_type": "markdown",
   "metadata": {},
   "source": [
    "**Окончательная обработка, получаем коллокации**"
   ]
  },
  {
   "cell_type": "code",
   "execution_count": 117,
   "metadata": {
    "collapsed": true
   },
   "outputs": [],
   "source": [
    "collocs = []\n",
    "for hl in filtered_hyperlinks:\n",
    "    hl = hl.strip()\n",
    "    hl = hl.lower()\n",
    "    \n",
    "    # Если это инициалы -> не добавляем\n",
    "    if re.match(\"(.\\. .\\. .+)|(.+ .\\. .+)\", hl) and (len(hl.split(' ')) == 3):\n",
    "        continue\n",
    "        \n",
    "    hl = re.sub(\" +\", \" \", hl)\n",
    "    hl = re.sub(\"[^ A-Za-z-]+\", \"\", hl)\n",
    "    hl = hl.strip()\n",
    "    \n",
    "    flag = (hl not in collocs) and \\\n",
    "           (len(hl.split(' ')) > 1) and \\\n",
    "           (len(hl.split(' ')) < 5)\n",
    "    if flag:\n",
    "        collocs.append(hl)"
   ]
  },
  {
   "cell_type": "code",
   "execution_count": 118,
   "metadata": {
    "scrolled": true
   },
   "outputs": [
    {
     "data": {
      "text/plain": [
       "['computer scientist',\n",
       " 'mikhail moiseevich bongard',\n",
       " 'pattern recognition',\n",
       " 'gdel escher bach',\n",
       " 'douglas hofstadter']"
      ]
     },
     "execution_count": 118,
     "metadata": {},
     "output_type": "execute_result"
    }
   ],
   "source": [
    "collocs[:5]"
   ]
  },
  {
   "cell_type": "markdown",
   "metadata": {},
   "source": [
    "**Записываем полученные коллокации в файл**"
   ]
  },
  {
   "cell_type": "code",
   "execution_count": 119,
   "metadata": {
    "collapsed": true
   },
   "outputs": [],
   "source": [
    "with open(COLLOCS_FILE, \"w\") as f:\n",
    "    f.write('\\n'.join(collocs))"
   ]
  },
  {
   "cell_type": "markdown",
   "metadata": {},
   "source": [
    "**Статистика**"
   ]
  },
  {
   "cell_type": "code",
   "execution_count": 120,
   "metadata": {
    "scrolled": true
   },
   "outputs": [
    {
     "name": "stdout",
     "output_type": "stream",
     "text": [
      "hyperlinks:\t9200\n",
      "filtered hl:\t11375\n",
      "collocations:\t3651\n"
     ]
    }
   ],
   "source": [
    "print(\"hyperlinks:\\t{}\".format(len(hyperlinks)))\n",
    "print(\"filtered hl:\\t{}\".format(len(filtered_hyperlinks)))\n",
    "print(\"collocations:\\t{}\".format(len(collocs)))"
   ]
  },
  {
   "cell_type": "markdown",
   "metadata": {},
   "source": [
    "<a id='documents_collect'></a>\n",
    "## Документы"
   ]
  },
  {
   "cell_type": "markdown",
   "metadata": {},
   "source": [
    "**Обрабатываем текст с помощью [wikiextractor](https://github.com/attardi/wikiextractor). Получаем json файлы**"
   ]
  },
  {
   "cell_type": "code",
   "execution_count": 18,
   "metadata": {
    "scrolled": true
   },
   "outputs": [
    {
     "data": {
      "text/plain": [
       "0"
      ]
     },
     "execution_count": 18,
     "metadata": {},
     "output_type": "execute_result"
    }
   ],
   "source": [
    "os.system(WIKIEXTRACTOR_FOLDER + \"/WikiExtractor.py \" + \"--json \" + \"-o \" + WIKITEXTS_JSON_FOLDER + \" \" + WIKI_XML)"
   ]
  },
  {
   "cell_type": "markdown",
   "metadata": {},
   "source": [
    "**Читаем их**"
   ]
  },
  {
   "cell_type": "code",
   "execution_count": 19,
   "metadata": {
    "collapsed": true
   },
   "outputs": [],
   "source": [
    "texts_str = \"\"\n",
    "for subdir in os.listdir(WIKITEXTS_JSON_FOLDER):\n",
    "    for file in os.listdir(WIKITEXTS_JSON_FOLDER + \"/\" + subdir):\n",
    "        with open(WIKITEXTS_JSON_FOLDER + subdir + \"/\" + file, \"r\") as f:\n",
    "            texts_str += f.read()"
   ]
  },
  {
   "cell_type": "code",
   "execution_count": 20,
   "metadata": {
    "collapsed": true
   },
   "outputs": [],
   "source": [
    "texts = []\n",
    "for text in texts_str.split('\\n'):\n",
    "    if text != '':  # in case of double \\n\n",
    "        texts.append(json.loads(text))"
   ]
  },
  {
   "cell_type": "markdown",
   "metadata": {},
   "source": [
    "**Сохраняем полученные документы в коллекцию + миниобработка**"
   ]
  },
  {
   "cell_type": "code",
   "execution_count": 31,
   "metadata": {
    "collapsed": true
   },
   "outputs": [],
   "source": [
    "for text in texts:\n",
    "    filename = text[\"title\"]\n",
    "    filename = re.sub(\"[^A-Za-zА-Яа-я0-9 ]\", \"\", filename)\n",
    "    filename = re.sub(\" +\", \"_\", filename)\n",
    "    article = '\\n'.join(text[\"text\"].split('\\n')[2:])  # remove name of article at the start\n",
    "    with open(WIKI_COLLECTION + filename + \".txt\", \"w\") as f:\n",
    "        f.write(article)"
   ]
  },
  {
   "cell_type": "markdown",
   "metadata": {},
   "source": [
    "<a id='syntaxnet'></a>\n",
    "# SyntaxNet"
   ]
  },
  {
   "cell_type": "markdown",
   "metadata": {},
   "source": [
    "<a id='syntaxnet_run'></a>\n",
    "## Запуск SyntaxNet"
   ]
  },
  {
   "cell_type": "markdown",
   "metadata": {},
   "source": [
    "**Загружаем коллекцию, удаляем пунктуацию и переводим в нижний регистр. Получаем список предложений**"
   ]
  },
  {
   "cell_type": "code",
   "execution_count": 6,
   "metadata": {
    "collapsed": true,
    "scrolled": false
   },
   "outputs": [],
   "source": [
    "sentences = []\n",
    "document_ids = []\n",
    "\n",
    "for doc_id, filename in enumerate(os.listdir(WIKI_COLLECTION)):\n",
    "    with open(WIKI_COLLECTION + filename, \"r\") as f:\n",
    "        sentences_raw = f.read().split('.')\n",
    "    \n",
    "    for sentence in sentences_raw:\n",
    "        sentence_nopunct = re.sub(\"[^A-Za-zА-Яа-я ]\", '', sentence)\n",
    "        sentence_nopunct = sentence_nopunct.lower().strip()\n",
    "        if len(sentence_nopunct) > 1:\n",
    "            sentences.append(sentence_nopunct)\n",
    "            document_ids.append(doc_id)"
   ]
  },
  {
   "cell_type": "markdown",
   "metadata": {},
   "source": [
    "**Запишем в файл каждое предложение в отдельной строке**"
   ]
  },
  {
   "cell_type": "code",
   "execution_count": 70,
   "metadata": {
    "collapsed": true
   },
   "outputs": [],
   "source": [
    "with open(SYNTAXNET_INPUT, \"w\") as f:\n",
    "    for sentence in sentences:\n",
    "        f.write(\"{}\\n\".format(sentence))"
   ]
  },
  {
   "cell_type": "markdown",
   "metadata": {},
   "source": [
    "**Прогоняем полученный файл через SyntaxNet** (docker взял [здесь](https://hub.docker.com/r/inemo/syntaxnet_eng/))"
   ]
  },
  {
   "cell_type": "code",
   "execution_count": 78,
   "metadata": {},
   "outputs": [
    {
     "name": "stdout",
     "output_type": "stream",
     "text": [
      "Done! It took 508.83 s.\n"
     ]
    }
   ],
   "source": [
    "start_time = time.time()\n",
    "if os.system(\"./run_syntaxnet.sh {} {}\".format(SYNTAXNET_INPUT, SYNTAXNET_OUTPUT)) != 0:\n",
    "    print(\"Something was wrong\")\n",
    "print(\"Done! It took {:.2f} s.\".format(time.time() - start_time))"
   ]
  },
  {
   "cell_type": "markdown",
   "metadata": {},
   "source": [
    "Выход syntaxnet'а"
   ]
  },
  {
   "cell_type": "code",
   "execution_count": 156,
   "metadata": {
    "collapsed": true
   },
   "outputs": [],
   "source": [
    "syntaxnet_out = pd.read_table(SYNTAXNET_OUTPUT, header=None,\n",
    "                              dtype={0: np.int, 6: np.int},\n",
    "                              quoting=csv.QUOTE_NONE, engine='c'\n",
    "                             )[[0, 1, 3, 6, 7]].fillna(\"\")"
   ]
  },
  {
   "cell_type": "code",
   "execution_count": 157,
   "metadata": {
    "scrolled": true
   },
   "outputs": [
    {
     "data": {
      "text/html": [
       "<div>\n",
       "<style>\n",
       "    .dataframe thead tr:only-child th {\n",
       "        text-align: right;\n",
       "    }\n",
       "\n",
       "    .dataframe thead th {\n",
       "        text-align: left;\n",
       "    }\n",
       "\n",
       "    .dataframe tbody tr th {\n",
       "        vertical-align: top;\n",
       "    }\n",
       "</style>\n",
       "<table border=\"1\" class=\"dataframe\">\n",
       "  <thead>\n",
       "    <tr style=\"text-align: right;\">\n",
       "      <th></th>\n",
       "      <th>0</th>\n",
       "      <th>1</th>\n",
       "      <th>3</th>\n",
       "      <th>6</th>\n",
       "      <th>7</th>\n",
       "    </tr>\n",
       "  </thead>\n",
       "  <tbody>\n",
       "    <tr>\n",
       "      <th>0</th>\n",
       "      <td>1</td>\n",
       "      <td>in</td>\n",
       "      <td>ADP</td>\n",
       "      <td>2</td>\n",
       "      <td>case</td>\n",
       "    </tr>\n",
       "    <tr>\n",
       "      <th>1</th>\n",
       "      <td>2</td>\n",
       "      <td>machine</td>\n",
       "      <td>NOUN</td>\n",
       "      <td>3</td>\n",
       "      <td>nmod</td>\n",
       "    </tr>\n",
       "    <tr>\n",
       "      <th>2</th>\n",
       "      <td>3</td>\n",
       "      <td>learning</td>\n",
       "      <td>VERB</td>\n",
       "      <td>10</td>\n",
       "      <td>csubj</td>\n",
       "    </tr>\n",
       "    <tr>\n",
       "      <th>3</th>\n",
       "      <td>4</td>\n",
       "      <td>the</td>\n",
       "      <td>DET</td>\n",
       "      <td>6</td>\n",
       "      <td>det</td>\n",
       "    </tr>\n",
       "    <tr>\n",
       "      <th>4</th>\n",
       "      <td>5</td>\n",
       "      <td>kernel</td>\n",
       "      <td>NOUN</td>\n",
       "      <td>6</td>\n",
       "      <td>compound</td>\n",
       "    </tr>\n",
       "  </tbody>\n",
       "</table>\n",
       "</div>"
      ],
      "text/plain": [
       "   0         1     3   6         7\n",
       "0  1        in   ADP   2      case\n",
       "1  2   machine  NOUN   3      nmod\n",
       "2  3  learning  VERB  10     csubj\n",
       "3  4       the   DET   6       det\n",
       "4  5    kernel  NOUN   6  compound"
      ]
     },
     "execution_count": 157,
     "metadata": {},
     "output_type": "execute_result"
    }
   ],
   "source": [
    "syntaxnet_out.head()"
   ]
  },
  {
   "cell_type": "markdown",
   "metadata": {},
   "source": [
    "**К каждому слову добавим id предложения и его лемму**<br>\n",
    "Нам повезло, что SyntaxNet говорит нам о части речи слова, так как это повысит качетсво лемматизатора"
   ]
  },
  {
   "cell_type": "code",
   "execution_count": 158,
   "metadata": {
    "collapsed": true
   },
   "outputs": [],
   "source": [
    "syntaxnet_out = pd.read_table(SYNTAXNET_OUTPUT, header=None,\n",
    "                              dtype={0: np.int, 6: np.int},\n",
    "                              quoting=csv.QUOTE_NONE, engine='c'\n",
    "                             )[[0, 1, 3, 6, 7]].fillna(\"\")\n",
    "\n",
    "\n",
    "lemmatizer = WordNetLemmatizer()\n",
    "\n",
    "syntaxnet_out.columns = [[\"word_id\", \"word\", \"POS\",\n",
    "                          \"parent_id\", \"dependency\"]]\n",
    "\n",
    "syntaxnet_out[\"word_id\"] -= 1\n",
    "syntaxnet_out[\"parent_id\"] -= 1\n",
    "\n",
    "cur_sentence_id = -1\n",
    "sentence_ids = []\n",
    "lemmas = []\n",
    "\n",
    "for word_id, word, pos in zip(syntaxnet_out[\"word_id\"],\n",
    "                              syntaxnet_out[\"word\"],\n",
    "                              syntaxnet_out[\"POS\"]):\n",
    "    if word_id == 0:\n",
    "        cur_sentence_id += 1\n",
    "        \n",
    "    if pos == \"VERB\":\n",
    "        lemma = lemmatizer.lemmatize(word, pos='v')\n",
    "    elif pos == \"ADJ\":\n",
    "        lemma = lemmatizer.lemmatize(word, pos='a')\n",
    "    elif pos == \"ADV\":\n",
    "        lemma = lemmatizer.lemmatize(word, pos='r')\n",
    "    else:\n",
    "        lemma = lemmatizer.lemmatize(word, pos='n')\n",
    "        \n",
    "    lemmas.append(lemma)\n",
    "    sentence_ids.append(cur_sentence_id)\n",
    "\n",
    "syntaxnet_out[\"sentence_id\"] = sentence_ids\n",
    "syntaxnet_out[\"lemma\"] = lemmas"
   ]
  },
  {
   "cell_type": "markdown",
   "metadata": {},
   "source": [
    "**Добавим id документа к каждому слову, чтобы опять собрать коллекцию**"
   ]
  },
  {
   "cell_type": "code",
   "execution_count": 159,
   "metadata": {},
   "outputs": [],
   "source": [
    "# need document_ids from cells above\n",
    "i = 0\n",
    "doc_ids = []\n",
    "prev_sentence_id = 0\n",
    "for sentence_id in syntaxnet_out[\"sentence_id\"]:\n",
    "    if sentence_id != prev_sentence_id:\n",
    "        i += 1\n",
    "        prev_sentence_id = sentence_id\n",
    "    doc_ids.append(document_ids[i])\n",
    "syntaxnet_out[\"doc_id\"] = doc_ids"
   ]
  },
  {
   "cell_type": "code",
   "execution_count": 160,
   "metadata": {
    "scrolled": true
   },
   "outputs": [
    {
     "data": {
      "text/html": [
       "<div>\n",
       "<style>\n",
       "    .dataframe thead tr:only-child th {\n",
       "        text-align: right;\n",
       "    }\n",
       "\n",
       "    .dataframe thead th {\n",
       "        text-align: left;\n",
       "    }\n",
       "\n",
       "    .dataframe tbody tr th {\n",
       "        vertical-align: top;\n",
       "    }\n",
       "</style>\n",
       "<table border=\"1\" class=\"dataframe\">\n",
       "  <thead>\n",
       "    <tr style=\"text-align: right;\">\n",
       "      <th></th>\n",
       "      <th>word_id</th>\n",
       "      <th>word</th>\n",
       "      <th>POS</th>\n",
       "      <th>parent_id</th>\n",
       "      <th>dependency</th>\n",
       "      <th>sentence_id</th>\n",
       "      <th>lemma</th>\n",
       "      <th>doc_id</th>\n",
       "    </tr>\n",
       "  </thead>\n",
       "  <tbody>\n",
       "    <tr>\n",
       "      <th>0</th>\n",
       "      <td>0</td>\n",
       "      <td>in</td>\n",
       "      <td>ADP</td>\n",
       "      <td>1</td>\n",
       "      <td>case</td>\n",
       "      <td>0</td>\n",
       "      <td>in</td>\n",
       "      <td>0</td>\n",
       "    </tr>\n",
       "    <tr>\n",
       "      <th>1</th>\n",
       "      <td>1</td>\n",
       "      <td>machine</td>\n",
       "      <td>NOUN</td>\n",
       "      <td>2</td>\n",
       "      <td>nmod</td>\n",
       "      <td>0</td>\n",
       "      <td>machine</td>\n",
       "      <td>0</td>\n",
       "    </tr>\n",
       "    <tr>\n",
       "      <th>2</th>\n",
       "      <td>2</td>\n",
       "      <td>learning</td>\n",
       "      <td>VERB</td>\n",
       "      <td>9</td>\n",
       "      <td>csubj</td>\n",
       "      <td>0</td>\n",
       "      <td>learn</td>\n",
       "      <td>0</td>\n",
       "    </tr>\n",
       "    <tr>\n",
       "      <th>3</th>\n",
       "      <td>3</td>\n",
       "      <td>the</td>\n",
       "      <td>DET</td>\n",
       "      <td>5</td>\n",
       "      <td>det</td>\n",
       "      <td>0</td>\n",
       "      <td>the</td>\n",
       "      <td>0</td>\n",
       "    </tr>\n",
       "    <tr>\n",
       "      <th>4</th>\n",
       "      <td>4</td>\n",
       "      <td>kernel</td>\n",
       "      <td>NOUN</td>\n",
       "      <td>5</td>\n",
       "      <td>compound</td>\n",
       "      <td>0</td>\n",
       "      <td>kernel</td>\n",
       "      <td>0</td>\n",
       "    </tr>\n",
       "  </tbody>\n",
       "</table>\n",
       "</div>"
      ],
      "text/plain": [
       "   word_id      word   POS  parent_id dependency  sentence_id    lemma  doc_id\n",
       "0        0        in   ADP          1       case            0       in       0\n",
       "1        1   machine  NOUN          2       nmod            0  machine       0\n",
       "2        2  learning  VERB          9      csubj            0    learn       0\n",
       "3        3       the   DET          5        det            0      the       0\n",
       "4        4    kernel  NOUN          5   compound            0   kernel       0"
      ]
     },
     "execution_count": 160,
     "metadata": {},
     "output_type": "execute_result"
    }
   ],
   "source": [
    "syntaxnet_out.head()"
   ]
  },
  {
   "cell_type": "markdown",
   "metadata": {},
   "source": [
    "Запишем полученную таблицу в pickle файл"
   ]
  },
  {
   "cell_type": "code",
   "execution_count": 166,
   "metadata": {},
   "outputs": [],
   "source": [
    "with open(\"syntaxnet_out.pkl\", 'wb') as f:\n",
    "    pkl.dump(syntaxnet_out, f)"
   ]
  },
  {
   "cell_type": "markdown",
   "metadata": {},
   "source": [
    "**Записываем полученную лемматизированную коллекцию в файл**"
   ]
  },
  {
   "cell_type": "code",
   "execution_count": 36,
   "metadata": {
    "collapsed": true
   },
   "outputs": [],
   "source": [
    "prev_doc_id = 0\n",
    "prev_sentence_id = 0\n",
    "cur_text = \"\"\n",
    "for lemma, sentence_id, doc_id in zip(syntaxnet_out[\"lemma\"], syntaxnet_out[\"sentence_id\"], syntaxnet_out[\"doc_id\"]):\n",
    "    if sentence_id != prev_sentence_id:\n",
    "        cur_text += ' .'\n",
    "        prev_sentence_id = sentence_id\n",
    "    if doc_id != prev_doc_id:\n",
    "        with open(LEMMATIZED_COLLECTION + \"{:04d}.txt\".format(doc_id), \"w\") as f:\n",
    "            f.write(cur_text)\n",
    "        cur_text = \"\"\n",
    "        prev_doc_id = doc_id\n",
    "    # do not add space at start of document\n",
    "    if(len(cur_text) != 0):\n",
    "        cur_text += ' '\n",
    "    cur_text += lemma"
   ]
  },
  {
   "cell_type": "markdown",
   "metadata": {},
   "source": [
    "<a id=\"syntaxnet_postprocess\"></a>\n",
    "## Обработка результатов SyntaxNet'а"
   ]
  },
  {
   "cell_type": "markdown",
   "metadata": {},
   "source": [
    "**Открываем выход syntaxnet'а и составляем список деревьев**"
   ]
  },
  {
   "cell_type": "code",
   "execution_count": 123,
   "metadata": {
    "collapsed": true
   },
   "outputs": [],
   "source": [
    "with open(SYNTAXNET_OUTPUT, \"r\") as f:\n",
    "    syntaxnet_out = f.read()"
   ]
  },
  {
   "cell_type": "code",
   "execution_count": 124,
   "metadata": {
    "collapsed": true
   },
   "outputs": [],
   "source": [
    "# May be removed\n",
    "with open(SYNTAXNET_INPUT, \"r\") as f:\n",
    "    sentences = f.read().split(\"\\n\")"
   ]
  },
  {
   "cell_type": "code",
   "execution_count": 125,
   "metadata": {
    "collapsed": true
   },
   "outputs": [],
   "source": [
    "processed_sentences = []\n",
    "sentence = []\n",
    "for line in syntaxnet_out.split(\"\\n\"):\n",
    "    if len(line) == 0:\n",
    "        processed_sentences.append(sentence)\n",
    "        sentence = []\n",
    "    else:\n",
    "        word = line.split(\"\\t\")\n",
    "        sentence.append(word)"
   ]
  },
  {
   "cell_type": "code",
   "execution_count": 126,
   "metadata": {
    "collapsed": true
   },
   "outputs": [],
   "source": [
    "deps = []\n",
    "for sentence in processed_sentences:\n",
    "    s = ''\n",
    "    for line in sentence:\n",
    "        s += \"\\t\".join(line) + '\\n'\n",
    "    deps.append(s)\n",
    "del deps[-1] # empty sentence"
   ]
  },
  {
   "cell_type": "code",
   "execution_count": 196,
   "metadata": {},
   "outputs": [
    {
     "name": "stdout",
     "output_type": "stream",
     "text": [
      "a generalization of the individual datapoint feature mapping done in classical kernel methods the embedding of distributions into infinitedimensional feature spaces can preserve all of the statistical features of arbitrary distributions while allowing one to compare and manipulate distributions using hilbert space operations such as inner products distances projections linear transformations and spectral analysis\n"
     ]
    },
    {
     "data": {
      "image/png": "[encoded data removed]",
      "text/plain": [
       "Tree('preserve', [Tree('generalization', ['a', Tree('mapping', ['of', 'the', 'individual', Tree('feature', ['datapoint']), Tree('done', [Tree('methods', ['in', 'classical', 'kernel']), Tree('embedding', ['the', Tree('distributions', ['of'])]), Tree('spaces', ['into', 'infinitedimensional', 'feature'])])])]), 'can', Tree('all', [Tree('features', ['of', 'the', 'statistical', Tree('distributions', ['of', 'arbitrary'])])]), Tree('allowing', ['while', Tree('one', [Tree('compare', ['to', 'and', Tree('distributions', ['manipulate', Tree('using', [Tree('operations', ['hilbert', 'space']), Tree('products', [Tree('such', ['as']), 'inner', Tree('distances', [Tree('transformations', ['projections', 'linear', 'and', Tree('analysis', ['spectral'])])])])])])])])])])"
      ]
     },
     "execution_count": 196,
     "metadata": {},
     "output_type": "execute_result"
    }
   ],
   "source": [
    "# Example\n",
    "sent_dep = deps[1]\n",
    "graph = nltk.DependencyGraph(tree_str=sent_dep)\n",
    "tree = graph.tree()\n",
    "print(sentences[1])\n",
    "tree"
   ]
  },
  {
   "cell_type": "markdown",
   "metadata": {},
   "source": [
    "** Выделим ветки деревьев **<br>\n",
    "Позже можно будет использовать другие признаки, например находятся ли слова в одном поддереве"
   ]
  },
  {
   "cell_type": "code",
   "execution_count": 131,
   "metadata": {
    "collapsed": true
   },
   "outputs": [],
   "source": [
    "def get_branches(tree):\n",
    "    def _get_branches(subtree, subbranches):\n",
    "        subbranches *= len(subtree)\n",
    "        for i, node in enumerate(subtree):\n",
    "            if isinstance(node, str):\n",
    "                subbranches[i] += (' ' + node)\n",
    "            if isinstance(node, nltk.tree.Tree):\n",
    "                subsubbranches = _get_branches(node, [subbranches[i] + ' ' + node.label()])\n",
    "                del subbranches[i]\n",
    "                subbranches[i:i] = subsubbranches\n",
    "        return subbranches\n",
    "    \n",
    "    branches = [tree.label()]\n",
    "    return _get_branches(tree, branches)"
   ]
  },
  {
   "cell_type": "code",
   "execution_count": 134,
   "metadata": {},
   "outputs": [],
   "source": [
    "syntax_branches = []\n",
    "sentences_branches_ids = []\n",
    "for i, sent_dep in enumerate(deps):\n",
    "    graph = nltk.DependencyGraph(tree_str=sent_dep)\n",
    "    tree = graph.tree()\n",
    "    subbranches = get_branches(tree)\n",
    "    syntax_branches += subbranches\n",
    "    sentences_branches_ids += [i] * len(subbranches)"
   ]
  },
  {
   "cell_type": "code",
   "execution_count": 155,
   "metadata": {
    "scrolled": true
   },
   "outputs": [
    {
     "data": {
      "text/plain": [
       "['extended hsic',\n",
       " 'extended can',\n",
       " 'extended be',\n",
       " 'extended measure to',\n",
       " 'extended measure dependence the',\n",
       " 'extended measure dependence variables of',\n",
       " 'extended measure dependence variables multiple',\n",
       " 'extended measure dependence variables random']"
      ]
     },
     "execution_count": 155,
     "metadata": {},
     "output_type": "execute_result"
    }
   ],
   "source": [
    "syntax_branches[1123:1131]\n",
    "\n",
    "# Example: feature datapoint"
   ]
  },
  {
   "cell_type": "markdown",
   "metadata": {},
   "source": [
    "<a id=\"syntaxnet_extraction\"></a>\n",
    "## Синтаксический отбор"
   ]
  },
  {
   "cell_type": "markdown",
   "metadata": {},
   "source": [
    "**Загрузим таблицу с обработанным выходом syntaxnet'а**"
   ]
  },
  {
   "cell_type": "code",
   "execution_count": 167,
   "metadata": {
    "collapsed": true
   },
   "outputs": [],
   "source": [
    "with open(\"syntaxnet_out.pkl\", 'rb') as f:\n",
    "    syntaxnet_out = pkl.load(f)"
   ]
  },
  {
   "cell_type": "code",
   "execution_count": 188,
   "metadata": {},
   "outputs": [
    {
     "data": {
      "text/html": [
       "<div>\n",
       "<style>\n",
       "    .dataframe thead tr:only-child th {\n",
       "        text-align: right;\n",
       "    }\n",
       "\n",
       "    .dataframe thead th {\n",
       "        text-align: left;\n",
       "    }\n",
       "\n",
       "    .dataframe tbody tr th {\n",
       "        vertical-align: top;\n",
       "    }\n",
       "</style>\n",
       "<table border=\"1\" class=\"dataframe\">\n",
       "  <thead>\n",
       "    <tr style=\"text-align: right;\">\n",
       "      <th></th>\n",
       "      <th>word_id</th>\n",
       "      <th>word</th>\n",
       "      <th>POS</th>\n",
       "      <th>parent_id</th>\n",
       "      <th>dependency</th>\n",
       "      <th>sentence_id</th>\n",
       "      <th>lemma</th>\n",
       "      <th>doc_id</th>\n",
       "    </tr>\n",
       "  </thead>\n",
       "  <tbody>\n",
       "    <tr>\n",
       "      <th>0</th>\n",
       "      <td>0</td>\n",
       "      <td>in</td>\n",
       "      <td>ADP</td>\n",
       "      <td>1</td>\n",
       "      <td>case</td>\n",
       "      <td>0</td>\n",
       "      <td>in</td>\n",
       "      <td>0</td>\n",
       "    </tr>\n",
       "    <tr>\n",
       "      <th>1</th>\n",
       "      <td>1</td>\n",
       "      <td>machine</td>\n",
       "      <td>NOUN</td>\n",
       "      <td>2</td>\n",
       "      <td>nmod</td>\n",
       "      <td>0</td>\n",
       "      <td>machine</td>\n",
       "      <td>0</td>\n",
       "    </tr>\n",
       "    <tr>\n",
       "      <th>2</th>\n",
       "      <td>2</td>\n",
       "      <td>learning</td>\n",
       "      <td>VERB</td>\n",
       "      <td>9</td>\n",
       "      <td>csubj</td>\n",
       "      <td>0</td>\n",
       "      <td>learn</td>\n",
       "      <td>0</td>\n",
       "    </tr>\n",
       "  </tbody>\n",
       "</table>\n",
       "</div>"
      ],
      "text/plain": [
       "   word_id      word   POS  parent_id dependency  sentence_id    lemma  doc_id\n",
       "0        0        in   ADP          1       case            0       in       0\n",
       "1        1   machine  NOUN          2       nmod            0  machine       0\n",
       "2        2  learning  VERB          9      csubj            0    learn       0"
      ]
     },
     "execution_count": 188,
     "metadata": {},
     "output_type": "execute_result"
    }
   ],
   "source": [
    "syntaxnet_out.head(3)"
   ]
  },
  {
   "cell_type": "markdown",
   "metadata": {},
   "source": [
    "**Выделим отдельные предложения**"
   ]
  },
  {
   "cell_type": "code",
   "execution_count": 189,
   "metadata": {},
   "outputs": [],
   "source": [
    "sentences_slices = []\n",
    "prev_sentence_id = 0\n",
    "cur_sentence_slice = []\n",
    "for i, row in syntaxnet_out.iterrows():\n",
    "    if row['sentence_id'] != prev_sentence_id:\n",
    "        sentences_slices.append(cur_sentence_slice)\n",
    "        cur_sentence_slice = []\n",
    "        prev_sentence_id = row['sentence_id']\n",
    "    cur_sentence_slice.append(i)"
   ]
  },
  {
   "cell_type": "code",
   "execution_count": 194,
   "metadata": {},
   "outputs": [
    {
     "name": "stdout",
     "output_type": "stream",
     "text": [
      "0\n",
      "1\n",
      "2\n",
      "3\n",
      "4\n",
      "5\n",
      "6\n",
      "7\n",
      "8\n",
      "9\n",
      "10\n",
      "11\n",
      "12\n",
      "13\n",
      "14\n",
      "15\n",
      "16\n",
      "17\n",
      "18\n",
      "19\n",
      "20\n",
      "21\n",
      "22\n",
      "23\n",
      "24\n",
      "25\n",
      "26\n",
      "27\n",
      "28\n",
      "29\n",
      "30\n",
      "31\n",
      "32\n",
      "33\n",
      "34\n",
      "35\n",
      "36\n",
      "37\n",
      "38\n"
     ]
    }
   ],
   "source": [
    "ngramms = []\n",
    "for sentence_slice in sentences_slices:\n",
    "    sentece_syntaxnet_out = syntaxnet_out.iloc[sentence_slice]\n",
    "    for i, row in sentece_syntaxnet_out.iterrows():\n",
    "        cur_ngramm = [row['lemma']]\n",
    "        for j in range(i + 1, len(sentece_syntaxnet_out)):\n",
    "            if row['parent_id'] == j or sentece_syntaxnet_out.iloc[j]['parent_id'] == i:\n",
    "                с\n",
    "    break"
   ]
  },
  {
   "cell_type": "markdown",
   "metadata": {},
   "source": [
    "<a id='topmine'></a>\n",
    "# TopMine"
   ]
  },
  {
   "cell_type": "markdown",
   "metadata": {},
   "source": [
    "**Загружаем лемматизированную коллекцию и стоп-слова**"
   ]
  },
  {
   "cell_type": "code",
   "execution_count": 37,
   "metadata": {
    "collapsed": true
   },
   "outputs": [],
   "source": [
    "corpora = []\n",
    "\n",
    "for doc_id, filename in enumerate(os.listdir(LEMMATIZED_COLLECTION)):\n",
    "    with open(LEMMATIZED_COLLECTION + filename, \"r\") as f:\n",
    "        corpora.append(f.read().split(' '))"
   ]
  },
  {
   "cell_type": "code",
   "execution_count": 65,
   "metadata": {
    "scrolled": true
   },
   "outputs": [
    {
     "name": "stdout",
     "output_type": "stream",
     "text": [
      "stopwords:\t175\n"
     ]
    }
   ],
   "source": [
    "with open(STOPWORDS_FILE, \"r\") as f:\n",
    "    stopwords = f.read().split('\\n')\n",
    "print(\"stopwords:\\t{}\".format(len(stopwords)))"
   ]
  },
  {
   "cell_type": "markdown",
   "metadata": {},
   "source": [
    "**Запускаем ngrammer**"
   ]
  },
  {
   "cell_type": "code",
   "execution_count": 67,
   "metadata": {
    "collapsed": true
   },
   "outputs": [],
   "source": [
    "ng = ngrammer.NGrammer()\n",
    "ng.delimiters = stopwords\n",
    "ng.delimiters_regex = ['[^a-z ]+']"
   ]
  },
  {
   "cell_type": "code",
   "execution_count": 68,
   "metadata": {},
   "outputs": [],
   "source": [
    "ng.frequentPhraseMining(corpora, 3)"
   ]
  },
  {
   "cell_type": "code",
   "execution_count": 69,
   "metadata": {},
   "outputs": [],
   "source": [
    "ngramms = []\n",
    "for document in corpora:\n",
    "    res = ng.ngramm(document, threshhold=3)\n",
    "    ngramms += res[0]"
   ]
  },
  {
   "cell_type": "code",
   "execution_count": 80,
   "metadata": {
    "collapsed": true
   },
   "outputs": [],
   "source": [
    "# delete points and stopwords\n",
    "ngramms = [ngramm for ngramm in ngramms if (ngramm != '.') and (ngramm not in stopwords)]"
   ]
  },
  {
   "cell_type": "code",
   "execution_count": 83,
   "metadata": {
    "scrolled": false
   },
   "outputs": [
    {
     "data": {
      "text/plain": [
       "['supervise learn',\n",
       " 'machine learning',\n",
       " 'task',\n",
       " 'learn',\n",
       " 'function',\n",
       " 'map',\n",
       " 'input',\n",
       " 'output',\n",
       " 'base',\n",
       " 'example']"
      ]
     },
     "execution_count": 83,
     "metadata": {},
     "output_type": "execute_result"
    }
   ],
   "source": [
    "ngramms[:10]"
   ]
  },
  {
   "cell_type": "markdown",
   "metadata": {},
   "source": [
    "**Оставим только ngramm'ы, в которых больше одного токена и они не повторяются**"
   ]
  },
  {
   "cell_type": "code",
   "execution_count": 94,
   "metadata": {},
   "outputs": [],
   "source": [
    "unique_ngramms = []\n",
    "for ngramm in ngramms:\n",
    "    if (ngramm not in unique_ngramms) and (len(ngramm.split(' ')) > 1):\n",
    "        unique_ngramms.append(ngramm)"
   ]
  },
  {
   "cell_type": "code",
   "execution_count": 106,
   "metadata": {
    "scrolled": true
   },
   "outputs": [
    {
     "data": {
      "text/plain": [
       "['optimization problem',\n",
       " 'prior probability',\n",
       " 'discriminative model',\n",
       " 'special case',\n",
       " 'probability distribution']"
      ]
     },
     "execution_count": 106,
     "metadata": {},
     "output_type": "execute_result"
    }
   ],
   "source": [
    "unique_ngramms[47:52]\n",
    "#Ngramms example"
   ]
  },
  {
   "cell_type": "code",
   "execution_count": 107,
   "metadata": {
    "scrolled": false
   },
   "outputs": [
    {
     "name": "stdout",
     "output_type": "stream",
     "text": [
      "unique ngramms:\t303\n"
     ]
    }
   ],
   "source": [
    "print(\"unique ngramms:\\t{}\".format(len(unique_ngramms)))"
   ]
  },
  {
   "cell_type": "markdown",
   "metadata": {},
   "source": [
    "**Запишем полученные уникальные ngramm'ы в файл**"
   ]
  },
  {
   "cell_type": "code",
   "execution_count": 111,
   "metadata": {
    "collapsed": true
   },
   "outputs": [],
   "source": [
    "with open(NGRAMMS_FILE, \"w\") as f:\n",
    "    f.write(\"\\n\".join(unique_ngramms))"
   ]
  }
 ],
 "metadata": {
  "kernelspec": {
   "display_name": "Python 3",
   "language": "python",
   "name": "python3"
  },
  "language_info": {
   "codemirror_mode": {
    "name": "ipython",
    "version": 3
   },
   "file_extension": ".py",
   "mimetype": "text/x-python",
   "name": "python",
   "nbconvert_exporter": "python",
   "pygments_lexer": "ipython3",
   "version": "3.6.5"
  }
 },
 "nbformat": 4,
 "nbformat_minor": 2
}
